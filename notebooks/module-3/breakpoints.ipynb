{
 "cells": [
  {
   "cell_type": "markdown",
   "id": "d4aa16f5-abc8-4ed3-8a71-54837fe46917",
   "metadata": {},
   "source": [
    "# Breakpoints"
   ]
  },
  {
   "cell_type": "code",
   "execution_count": 6,
   "id": "35842345-0694-4f0a-aa62-7d4898abf653",
   "metadata": {},
   "outputs": [],
   "source": [
    "%%capture --no-stderr\n",
    "%pip install --quiet -U langgraph langchain_openai langgraph_sdk langgraph-prebuilt"
   ]
  },
  {
   "cell_type": "code",
   "execution_count": 7,
   "id": "67d91f7c",
   "metadata": {},
   "outputs": [],
   "source": [
    "import os, getpass\n",
    "\n",
    "def _set_env(var: str):\n",
    "    if not os.environ.get(var):\n",
    "        os.environ[var] = getpass.getpass(f\"{var}: \")\n",
    "\n",
    "_set_env(\"OPENAI_API_KEY\")"
   ]
  },
  {
   "cell_type": "markdown",
   "id": "31d8b4cd-e3ff-48cc-b7b2-f83fadb1c86b",
   "metadata": {},
   "source": [
    "## Breakpoints for human approval\n"
   ]
  },
  {
   "cell_type": "code",
   "execution_count": 8,
   "id": "b94d1a90-2fe3-4b2a-a901-3bdb89e37edc",
   "metadata": {},
   "outputs": [],
   "source": [
    "from langchain_openai import ChatOpenAI\n",
    "\n",
    "def multiply(a: int, b: int) -> int:\n",
    "    \"\"\"Multiply a and b.\n",
    "\n",
    "    Args:\n",
    "        a: first int\n",
    "        b: second int\n",
    "    \"\"\"\n",
    "    return a * b\n",
    "\n",
    "def add(a: int, b: int) -> int:\n",
    "    \"\"\"Adds a and b.\n",
    "\n",
    "    Args:\n",
    "        a: first int\n",
    "        b: second int\n",
    "    \"\"\"\n",
    "    return a + b\n",
    "\n",
    "def divide(a: int, b: int) -> float:\n",
    "    \"\"\"Divide a and b.\n",
    "\n",
    "    Args:\n",
    "        a: first int\n",
    "        b: second int\n",
    "    \"\"\"\n",
    "    return a / b\n",
    "\n",
    "\n",
    "def convert_to_binary(number: int, bits: int = 8) -> str:\n",
    "    \"\"\"Converts a decimal integer to its two's complement binary representation.\n",
    "\n",
    "    Args:\n",
    "        number: The decimal integer to convert.\n",
    "        bits: The number of bits for the binary representation.\n",
    "    \"\"\"\n",
    "    if number >= 0:\n",
    "        # For positive numbers, use standard binary conversion\n",
    "        return bin(number)[2:].zfill(bits)\n",
    "    else:\n",
    "        # For negative numbers, calculate two's complement\n",
    "        return bin((1 << bits) + number)[2:]\n",
    "\n",
    "def calculate_twos_complement(binary_string: str) -> str:\n",
    "    \"\"\"Calculates the two's complement of a binary string.\n",
    "\n",
    "    Args:\n",
    "        binary_string: The binary string (e.g., '00000101').\n",
    "    \"\"\"\n",
    "    bits = len(binary_string)\n",
    "    # Invert the bits\n",
    "    inverted = ''.join(['1' if b == '0' else '0' for b in binary_string])\n",
    "    # Add 1\n",
    "    inverted_int = int(inverted, 2)\n",
    "    twos_comp_int = inverted_int + 1\n",
    "    # Convert back to binary and handle overflow\n",
    "    return bin(twos_comp_int)[2:].zfill(bits)[-bits:]\n",
    "\n",
    "def add_twos_complement_binaries(bin1: str, bin2: str) -> str:\n",
    "    \"\"\"Adds two two's complement binary strings.\n",
    "\n",
    "    Args:\n",
    "        bin1: The first binary string.\n",
    "        bin2: The second binary string.\n",
    "    \"\"\"\n",
    "    bits = len(bin1)\n",
    "    sum_val = int(bin1, 2) + int(bin2, 2)\n",
    "    # Handle overflow by taking the last 'bits' number of bits\n",
    "    result = sum_val & ((1 << bits) - 1)\n",
    "    return bin(result)[2:].zfill(bits)\n",
    "\n",
    "def convert_from_twos_complement(binary_string: str) -> int:\n",
    "    \"\"\"Converts a two's complement binary string back to a decimal integer.\n",
    "\n",
    "    Args:\n",
    "        binary_string: The two's complement binary string.\n",
    "    \"\"\"\n",
    "    bits = len(binary_string)\n",
    "    val = int(binary_string, 2)\n",
    "    # If the most significant bit is 1, it's a negative number\n",
    "    if (val & (1 << (bits - 1))) != 0:\n",
    "        val = val - (1 << bits)\n",
    "    return val\n",
    "\n",
    "\n",
    "tools = [\n",
    "    add, \n",
    "    multiply, \n",
    "    divide, \n",
    "    convert_to_binary, \n",
    "    calculate_twos_complement, \n",
    "    add_twos_complement_binaries,\n",
    "    convert_from_twos_complement\n",
    "]\n",
    "\n",
    "llm = ChatOpenAI(model=\"gpt-4o\")\n",
    "llm_with_tools = llm.bind_tools(tools)"
   ]
  },
  {
   "cell_type": "code",
   "execution_count": 9,
   "id": "ac06feae-d12b-490b-95e7-38cf40b74202",
   "metadata": {},
   "outputs": [
    {
     "data": {
      "image/png": "[encoded data removed]",
      "text/plain": [
       "<IPython.core.display.Image object>"
      ]
     },
     "metadata": {},
     "output_type": "display_data"
    }
   ],
   "source": [
    "from IPython.display import Image, display\n",
    "\n",
    "from langgraph.checkpoint.memory import MemorySaver\n",
    "from langgraph.graph import MessagesState\n",
    "from langgraph.graph import START, StateGraph\n",
    "from langgraph.prebuilt import tools_condition, ToolNode\n",
    "\n",
    "from langchain_core.messages import AIMessage, HumanMessage, SystemMessage\n",
    "\n",
    "# System message\n",
    "sys_msg = SystemMessage(content=\"You are a helpful assistant tasked with performing arithmetic on a set of inputs.\")\n",
    "\n",
    "# Node\n",
    "def assistant(state: MessagesState):\n",
    "   return {\"messages\": [llm_with_tools.invoke([sys_msg] + state[\"messages\"])]}\n",
    "\n",
    "# Graph\n",
    "builder = StateGraph(MessagesState)\n",
    "\n",
    "# Define nodes: these do the work\n",
    "builder.add_node(\"assistant\", assistant)\n",
    "builder.add_node(\"tools\", ToolNode(tools))\n",
    "\n",
    "# Define edges: these determine the control flow\n",
    "builder.add_edge(START, \"assistant\")\n",
    "builder.add_conditional_edges(\n",
    "    \"assistant\",\n",
    "    # If the latest message (result) from assistant is a tool call -> tools_condition routes to tools\n",
    "    # If the latest message (result) from assistant is a not a tool call -> tools_condition routes to END\n",
    "    tools_condition,\n",
    ")\n",
    "builder.add_edge(\"tools\", \"assistant\")\n",
    "\n",
    "memory = MemorySaver()\n",
    "graph = builder.compile(interrupt_before=[\"assistant\", \"tools\"], checkpointer=memory)\n",
    "\n",
    "# Show\n",
    "display(Image(graph.get_graph(xray=True).draw_mermaid_png()))"
   ]
  },
  {
   "cell_type": "code",
   "execution_count": 10,
   "id": "a783efac-46a9-4fb4-a1c6-a11b02540448",
   "metadata": {},
   "outputs": [
    {
     "name": "stdout",
     "output_type": "stream",
     "text": [
      "================================\u001b[1m Human Message \u001b[0m=================================\n",
      "\n",
      "Convert 100 to its two's complement binary representation.\n"
     ]
    }
   ],
   "source": [
    "# Input\n",
    "initial_input = {\"messages\": HumanMessage(content=\"Convert 100 to its two's complement binary representation.\")}\n",
    "\n",
    "# Thread\n",
    "thread = {\"configurable\": {\"thread_id\": \"1\"}}\n",
    "\n",
    "# Run the graph until the first interruption\n",
    "for event in graph.stream(initial_input, thread, stream_mode=\"values\"):\n",
    "    event['messages'][-1].pretty_print()"
   ]
  },
  {
   "cell_type": "code",
   "execution_count": 11,
   "id": "61569596-8342-4a37-9c99-e3a9dccb18ee",
   "metadata": {},
   "outputs": [
    {
     "data": {
      "text/plain": [
       "('assistant',)"
      ]
     },
     "execution_count": 11,
     "metadata": {},
     "output_type": "execute_result"
    }
   ],
   "source": [
    "state = graph.get_state(thread)\n",
    "state.next"
   ]
  },
  {
   "cell_type": "code",
   "execution_count": 12,
   "id": "896a5f41-7386-4bfa-a78e-3e6ca5e26641",
   "metadata": {},
   "outputs": [
    {
     "name": "stdout",
     "output_type": "stream",
     "text": [
      "================================\u001b[1m Human Message \u001b[0m=================================\n",
      "\n",
      "Convert 100 to its two's complement binary representation.\n",
      "==================================\u001b[1m Ai Message \u001b[0m==================================\n",
      "Tool Calls:\n",
      "  convert_to_binary (call_nmGQSi3eiu2ASzpln7pNIVBM)\n",
      " Call ID: call_nmGQSi3eiu2ASzpln7pNIVBM\n",
      "  Args:\n",
      "    number: 100\n"
     ]
    }
   ],
   "source": [
    "for event in graph.stream(None, thread, stream_mode=\"values\"):\n",
    "    event['messages'][-1].pretty_print()"
   ]
  },
  {
   "cell_type": "code",
   "execution_count": null,
   "id": "95a0eb50-66e3-4538-8103-207aae175154",
   "metadata": {},
   "outputs": [
    {
     "name": "stdout",
     "output_type": "stream",
     "text": [
      "Running until first breakpoint\n",
      "Event received: human\n",
      "Paused before assistant\n",
      "Next node to execute: ('assistant',)\n",
      "\n",
      " Resuming 1st time\n",
      "Assistant proposed: ================================\u001b[1m Human Message \u001b[0m=================================\n",
      "\n",
      "Convert 100 to its two's complement binary representation.\n",
      "Assistant proposed: ==================================\u001b[1m Ai Message \u001b[0m==================================\n",
      "Tool Calls:\n",
      "  convert_to_binary (call_4akEzipP5FMfEUk4KF5v2XhN)\n",
      " Call ID: call_4akEzipP5FMfEUk4KF5v2XhN\n",
      "  Args:\n",
      "    number: 100\n",
      "Paused before tools\n",
      "Next node to execute: ('tools',)\n",
      "\n",
      "Assistant wanted tool call:\n",
      "==================================\u001b[1m Ai Message \u001b[0m==================================\n",
      "Tool Calls:\n",
      "  convert_to_binary (call_4akEzipP5FMfEUk4KF5v2XhN)\n",
      " Call ID: call_4akEzipP5FMfEUk4KF5v2XhN\n",
      "  Args:\n",
      "    number: 100\n",
      "\n",
      "--- Resuming 2nd time\n",
      "Event received: ==================================\u001b[1m Ai Message \u001b[0m==================================\n",
      "Tool Calls:\n",
      "  convert_to_binary (call_4akEzipP5FMfEUk4KF5v2XhN)\n",
      " Call ID: call_4akEzipP5FMfEUk4KF5v2XhN\n",
      "  Args:\n",
      "    number: 100\n",
      "Event received: =================================\u001b[1m Tool Message \u001b[0m=================================\n",
      "Name: convert_to_binary\n",
      "\n",
      "01100100\n",
      "\n",
      "--- Graph finished ---\n"
     ]
    }
   ],
   "source": [
    "initial_input = {\"messages\": HumanMessage(content=\"Convert 100 to its two's complement binary representation.\")}\n",
    "thread = {\"configurable\": {\"thread_id\": \"multi_break_v2\"}} \n",
    "\n",
    "# Run until first breakpoint\n",
    "print(\"Running until first breakpoint\")\n",
    "\n",
    "async for event in graph.astream(initial_input, thread, stream_mode=\"values\"):\n",
    "   \n",
    "    if event.get('messages'):\n",
    "        print(\"Event received:\", event['messages'][-1].type)\n",
    "    if event.get('__interrupt__'): \n",
    "         break\n",
    "print(\"Paused before assistant\")\n",
    "state_before_assistant = await graph.aget_state(thread)\n",
    "print(f\"Next node to execute: {state_before_assistant.next}\")\n",
    "\n",
    "\n",
    "# First Resume\n",
    "print(\"\\n Resuming 1st time\")\n",
    "\n",
    "async for event in graph.astream(None, thread, stream_mode=\"values\"):\n",
    "     if event.get('messages'):\n",
    "          print(\"Assistant proposed:\", end=\" \")\n",
    "          event['messages'][-1].pretty_print()\n",
    "     if event.get('__interrupt__'):\n",
    "         break \n",
    "print(\"Paused before tools\")\n",
    "state_before_tools = await graph.aget_state(thread)\n",
    "print(f\"Next node to execute: {state_before_tools.next}\")\n",
    "\n",
    "\n",
    "\n",
    "print(\"\\nAssistant wanted tool call:\")\n",
    "state_before_tools.values['messages'][-1].pretty_print() \n",
    "user_approval = input(\"Do you want to call the tool? (yes/no): \")\n",
    "\n",
    "\n",
    "# Second Resume\n",
    "if user_approval.lower() == \"yes\":\n",
    "    print(\"\\n--- Resuming 2nd time\")\n",
    "    \n",
    "    async for event in graph.astream(None, thread, stream_mode=\"values\"):\n",
    "        if event.get('messages'):\n",
    "             print(\"Event received:\", end=\" \")\n",
    "             event['messages'][-1].pretty_print()\n",
    "    print(\"\\nGraph finished\")\n",
    "else:\n",
    "    print(\"Operation cancelled by user before tool execution.\")\n"
   ]
  },
  {
   "attachments": {},
   "cell_type": "markdown",
   "id": "b8ff8762-6fa1-4373-954a-e7f479ee0efb",
   "metadata": {},
   "source": [
    "### Breakpoints with LangGraph API"
   ]
  },
  {
   "cell_type": "code",
   "execution_count": 17,
   "id": "63c2eaf1-6b8b-4d80-9902-98ae5587bcf9",
   "metadata": {},
   "outputs": [],
   "source": [
    "if 'google.colab' in str(get_ipython()):\n",
    "    raise Exception(\"Unfortunately LangGraph Studio is currently not supported on Google Colab\")"
   ]
  },
  {
   "cell_type": "code",
   "execution_count": 18,
   "id": "fb1dd890-c216-4802-9e33-b637e491e144",
   "metadata": {},
   "outputs": [],
   "source": [
    "# This is the URL of the local development server\n",
    "from langgraph_sdk import get_client\n",
    "client = get_client(url=\"http://127.0.0.1:2024\")"
   ]
  },
  {
   "cell_type": "code",
   "execution_count": 19,
   "id": "de9c5017-3a15-46f6-8edf-3997613da323",
   "metadata": {},
   "outputs": [
    {
     "name": "stdout",
     "output_type": "stream",
     "text": [
      "Receiving new event of type: metadata...\n",
      "--------------------------------------------------\n",
      "Receiving new event of type: values...\n",
      "{'content': 'Multiply 2 and 3', 'additional_kwargs': {}, 'response_metadata': {}, 'type': 'human', 'name': None, 'id': 'b8cec5bb-b009-4b39-810e-9add099b3afd'}\n",
      "--------------------------------------------------\n",
      "Receiving new event of type: values...\n",
      "{'content': '', 'additional_kwargs': {'refusal': None}, 'response_metadata': {'token_usage': {'completion_tokens': 17, 'prompt_tokens': 134, 'total_tokens': 151, 'completion_tokens_details': {'accepted_prediction_tokens': 0, 'audio_tokens': 0, 'reasoning_tokens': 0, 'rejected_prediction_tokens': 0}, 'prompt_tokens_details': {'audio_tokens': 0, 'cached_tokens': 0}}, 'model_provider': 'openai', 'model_name': 'gpt-4o-2024-08-06', 'system_fingerprint': 'fp_65564d8ba5', 'id': 'chatcmpl-CV0oql1XFAVbKmHp4qUe0vPkYGPHG', 'service_tier': 'default', 'finish_reason': 'tool_calls', 'logprobs': None}, 'type': 'ai', 'name': None, 'id': 'lc_run--e91ab8e9-c9e7-4ac6-b470-2f8203d9a9ac-0', 'tool_calls': [{'name': 'multiply', 'args': {'a': 2, 'b': 3}, 'id': 'call_vPlMuRezdH1ngvX8e3kZObhA', 'type': 'tool_call'}], 'invalid_tool_calls': [], 'usage_metadata': {'input_tokens': 134, 'output_tokens': 17, 'total_tokens': 151, 'input_token_details': {'audio': 0, 'cache_read': 0}, 'output_token_details': {'audio': 0, 'reasoning': 0}}}\n",
      "--------------------------------------------------\n"
     ]
    }
   ],
   "source": [
    "initial_input = {\"messages\": HumanMessage(content=\"Multiply 2 and 3\")}\n",
    "thread = await client.threads.create()\n",
    "async for chunk in client.runs.stream(\n",
    "    thread[\"thread_id\"],\n",
    "    assistant_id=\"agent\",\n",
    "    input=initial_input,\n",
    "    stream_mode=\"values\",\n",
    "    interrupt_before=[\"tools\"],\n",
    "):\n",
    "    print(f\"Receiving new event of type: {chunk.event}...\")\n",
    "    messages = chunk.data.get('messages', [])\n",
    "    if messages:\n",
    "        print(messages[-1])\n",
    "    print(\"-\" * 50)"
   ]
  },
  {
   "cell_type": "code",
   "execution_count": 20,
   "id": "76284730-9c90-46c4-8295-400a49760b07",
   "metadata": {},
   "outputs": [
    {
     "name": "stdout",
     "output_type": "stream",
     "text": [
      "Receiving new event of type: metadata...\n",
      "--------------------------------------------------\n",
      "Receiving new event of type: values...\n",
      "{'content': '', 'additional_kwargs': {'refusal': None}, 'response_metadata': {'token_usage': {'completion_tokens': 17, 'prompt_tokens': 134, 'total_tokens': 151, 'completion_tokens_details': {'accepted_prediction_tokens': 0, 'audio_tokens': 0, 'reasoning_tokens': 0, 'rejected_prediction_tokens': 0}, 'prompt_tokens_details': {'audio_tokens': 0, 'cached_tokens': 0}}, 'model_provider': 'openai', 'model_name': 'gpt-4o-2024-08-06', 'system_fingerprint': 'fp_65564d8ba5', 'id': 'chatcmpl-CV0oql1XFAVbKmHp4qUe0vPkYGPHG', 'service_tier': 'default', 'finish_reason': 'tool_calls', 'logprobs': None}, 'type': 'ai', 'name': None, 'id': 'lc_run--e91ab8e9-c9e7-4ac6-b470-2f8203d9a9ac-0', 'tool_calls': [{'name': 'multiply', 'args': {'a': 2, 'b': 3}, 'id': 'call_vPlMuRezdH1ngvX8e3kZObhA', 'type': 'tool_call'}], 'invalid_tool_calls': [], 'usage_metadata': {'input_tokens': 134, 'output_tokens': 17, 'total_tokens': 151, 'input_token_details': {'audio': 0, 'cache_read': 0}, 'output_token_details': {'audio': 0, 'reasoning': 0}}}\n",
      "--------------------------------------------------\n",
      "Receiving new event of type: values...\n",
      "{'content': '6', 'additional_kwargs': {}, 'response_metadata': {}, 'type': 'tool', 'name': 'multiply', 'id': '86be314e-79e2-4fc1-8b49-599e267324e0', 'tool_call_id': 'call_vPlMuRezdH1ngvX8e3kZObhA', 'artifact': None, 'status': 'success'}\n",
      "--------------------------------------------------\n",
      "Receiving new event of type: values...\n",
      "{'content': 'The result of multiplying 2 and 3 is 6.', 'additional_kwargs': {'refusal': None}, 'response_metadata': {'token_usage': {'completion_tokens': 14, 'prompt_tokens': 159, 'total_tokens': 173, 'completion_tokens_details': {'accepted_prediction_tokens': 0, 'audio_tokens': 0, 'reasoning_tokens': 0, 'rejected_prediction_tokens': 0}, 'prompt_tokens_details': {'audio_tokens': 0, 'cached_tokens': 0}}, 'model_provider': 'openai', 'model_name': 'gpt-4o-2024-08-06', 'system_fingerprint': 'fp_65564d8ba5', 'id': 'chatcmpl-CV0ovjmzyjV1yzikmdbagwYx5ISXO', 'service_tier': 'default', 'finish_reason': 'stop', 'logprobs': None}, 'type': 'ai', 'name': None, 'id': 'lc_run--f0bf1de2-8881-4a2c-ac5a-a8fe43e261b0-0', 'tool_calls': [], 'invalid_tool_calls': [], 'usage_metadata': {'input_tokens': 159, 'output_tokens': 14, 'total_tokens': 173, 'input_token_details': {'audio': 0, 'cache_read': 0}, 'output_token_details': {'audio': 0, 'reasoning': 0}}}\n",
      "--------------------------------------------------\n"
     ]
    }
   ],
   "source": [
    "async for chunk in client.runs.stream(\n",
    "    thread[\"thread_id\"],\n",
    "    \"agent\",\n",
    "    input=None,\n",
    "    stream_mode=\"values\",\n",
    "    interrupt_before=[\"tools\"],\n",
    "):\n",
    "    print(f\"Receiving new event of type: {chunk.event}...\")\n",
    "    messages = chunk.data.get('messages', [])\n",
    "    if messages:\n",
    "        print(messages[-1])\n",
    "    print(\"-\" * 50)"
   ]
  }
 ],
 "metadata": {
  "kernelspec": {
   "display_name": ".venv",
   "language": "python",
   "name": "python3"
  },
  "language_info": {
   "codemirror_mode": {
    "name": "ipython",
    "version": 3
   },
   "file_extension": ".py",
   "mimetype": "text/x-python",
   "name": "python",
   "nbconvert_exporter": "python",
   "pygments_lexer": "ipython3",
   "version": "3.13.5"
  }
 },
 "nbformat": 4,
 "nbformat_minor": 5
}
