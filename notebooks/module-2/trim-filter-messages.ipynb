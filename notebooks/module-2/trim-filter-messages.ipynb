{
 "cells": [
  {
   "cell_type": "markdown",
   "id": "c52ea2f9-03ff-4647-b782-46867ebed04e",
   "metadata": {},
   "source": [
    "# Filtering and trimming messages"
   ]
  },
  {
   "cell_type": "code",
   "execution_count": 30,
   "id": "d5197aba-5d46-421b-ae3b-4e3034edcfda",
   "metadata": {},
   "outputs": [],
   "source": [
    "%%capture --no-stderr\n",
    "%pip install --quiet -U langchain_core langgraph langchain_openai"
   ]
  },
  {
   "cell_type": "code",
   "execution_count": 31,
   "id": "768dc606-d5f2-468d-96ea-910b264e0f8a",
   "metadata": {},
   "outputs": [],
   "source": [
    "import os, getpass\n",
    "\n",
    "def _set_env(var: str):\n",
    "    if not os.environ.get(var):\n",
    "        os.environ[var] = getpass.getpass(f\"{var}: \")\n",
    "\n",
    "_set_env(\"OPENAI_API_KEY\")"
   ]
  },
  {
   "cell_type": "code",
   "execution_count": 32,
   "id": "dd020c79",
   "metadata": {},
   "outputs": [],
   "source": [
    "_set_env(\"LANGSMITH_API_KEY\")\n",
    "os.environ[\"LANGSMITH_TRACING\"] = \"true\"\n",
    "os.environ[\"LANGSMITH_PROJECT\"] = \"langchain-academy\""
   ]
  },
  {
   "cell_type": "code",
   "execution_count": 33,
   "id": "cf11a463-e27a-4a05-b41d-64882e38edca",
   "metadata": {},
   "outputs": [
    {
     "name": "stdout",
     "output_type": "stream",
     "text": [
      "==================================\u001b[1m Ai Message \u001b[0m==================================\n",
      "Name: Bot\n",
      "\n",
      "So you said you wanted to know interesting facts about cosmos?\n",
      "================================\u001b[1m Human Message \u001b[0m=================================\n",
      "Name: arnav\n",
      "\n",
      "Yes, I know about black holes. But what other celestial bodies should I learn about?\n"
     ]
    }
   ],
   "source": [
    "from pprint import pprint\n",
    "from langchain_core.messages import AIMessage, HumanMessage\n",
    "messages = [AIMessage(f\"So you said you wanted to know interesting facts about cosmos?\", name=\"Bot\")]\n",
    "messages.append(HumanMessage(f\"Yes, I know about black holes. But what other celestial bodies should I learn about?\", name=\"arnav\"))\n",
    "\n",
    "for m in messages:\n",
    "    m.pretty_print()"
   ]
  },
  {
   "cell_type": "code",
   "execution_count": 34,
   "id": "4712e288-e622-48a2-ad3f-a52f65f3ab08",
   "metadata": {},
   "outputs": [
    {
     "data": {
      "text/plain": [
       "AIMessage(content='There are many fascinating celestial bodies and phenomena in the universe to explore beyond black holes. Here are some you might find intriguing:\\n\\n1. **Neutron Stars**: These are incredibly dense remnants of massive stars that have exploded in supernovae. A sugar-cube-sized amount of neutron-star material would weigh about a billion tons on Earth. Neutron stars can also become pulsars, emitting beams of radiation from their poles.\\n\\n2. **Quasars**: These are extremely luminous objects powered by supermassive black holes at the centers of distant galaxies. Quasars are among the brightest objects in the universe and can outshine entire galaxies.\\n\\n3. **Exoplanets**: Planets that orbit stars outside our solar system. Thousands have been discovered, and some are located in the \"habitable zone\" where conditions might support liquid water—and potentially life.\\n\\n4. **Brown Dwarfs**: Sometimes called \"failed stars,\" these objects are too massive to be planets but not massive enough to sustain nuclear fusion, which is typical in stars. They occupy a middle ground between the two.\\n\\n5. **Gamma-Ray Bursts**: The universe\\'s most energetic and luminous events, these bursts can last from a few milliseconds to several minutes, often associated with exploding stars or merging neutron stars.\\n\\n6. **Magnetars**: A type of neutron star with an extremely powerful magnetic field. Magnetars can release enormous amounts of energy in the form of electromagnetic radiation. \\n\\n7. **Galactic Filaments**: Massive, thread-like structures that form the boundaries between large voids in the universe. They are part of the cosmic web that represents the large-scale structure of the cosmos.\\n\\n8. **Trojans**: These are small celestial bodies that share an orbit with a larger planet or moon and are located at stable Lagrange points. Jupiter has many Trojan asteroids.\\n\\n9. **Hypervelocity Stars**: Stars that travel at speeds so high that they can escape the gravitational pull of their home galaxies. These can be ejected by interactions with black holes or other massive objects.\\n\\n10. **Dark Matter and Dark Energy**: While not directly observable \"bodies,\" these phenomena make up the majority of the universe\\'s mass-energy content. Dark matter affects the motion of galaxies, and dark energy is driving the accelerated expansion of the universe.\\n\\nEach of these topics opens a window into the complexities and wonders of the universe, offering a glimpse of the variety and scale that exist beyond our solar system.', additional_kwargs={'refusal': None}, response_metadata={'token_usage': {'completion_tokens': 505, 'prompt_tokens': 46, 'total_tokens': 551, 'completion_tokens_details': {'accepted_prediction_tokens': 0, 'audio_tokens': 0, 'reasoning_tokens': 0, 'rejected_prediction_tokens': 0}, 'prompt_tokens_details': {'audio_tokens': 0, 'cached_tokens': 0}}, 'model_provider': 'openai', 'model_name': 'gpt-4o-2024-08-06', 'system_fingerprint': 'fp_eb3c3cb84d', 'id': 'chatcmpl-CTbPs6WNE04NoY18yWzg62IsuJml8', 'service_tier': 'default', 'finish_reason': 'stop', 'logprobs': None}, id='lc_run--1100fd5d-dd82-44f1-be21-1c176365f53f-0', usage_metadata={'input_tokens': 46, 'output_tokens': 505, 'total_tokens': 551, 'input_token_details': {'audio': 0, 'cache_read': 0}, 'output_token_details': {'audio': 0, 'reasoning': 0}})"
      ]
     },
     "execution_count": 34,
     "metadata": {},
     "output_type": "execute_result"
    }
   ],
   "source": [
    "from langchain_openai import ChatOpenAI\n",
    "llm = ChatOpenAI(model=\"gpt-4o\")\n",
    "llm.invoke(messages)"
   ]
  },
  {
   "cell_type": "code",
   "execution_count": 35,
   "id": "bbd8c39c-633b-4176-9cc6-8318e42bb5dd",
   "metadata": {},
   "outputs": [
    {
     "data": {
      "image/png": "[encoded data removed]",
      "text/plain": [
       "<IPython.core.display.Image object>"
      ]
     },
     "metadata": {},
     "output_type": "display_data"
    }
   ],
   "source": [
    "from IPython.display import Image, display\n",
    "from langgraph.graph import MessagesState\n",
    "from langgraph.graph import StateGraph, START, END\n",
    "\n",
    "# Node\n",
    "def chat_model_node(state: MessagesState):\n",
    "    return {\"messages\": llm.invoke(state[\"messages\"])}\n",
    "\n",
    "# Build graph\n",
    "builder = StateGraph(MessagesState)\n",
    "builder.add_node(\"chat_model\", chat_model_node)\n",
    "builder.add_edge(START, \"chat_model\")\n",
    "builder.add_edge(\"chat_model\", END)\n",
    "graph = builder.compile()\n",
    "\n",
    "# View\n",
    "display(Image(graph.get_graph().draw_mermaid_png()))"
   ]
  },
  {
   "cell_type": "code",
   "execution_count": 36,
   "id": "3a5a3e4a-ccfd-4d14-81f1-f0de6e11a1e4",
   "metadata": {},
   "outputs": [
    {
     "name": "stdout",
     "output_type": "stream",
     "text": [
      "==================================\u001b[1m Ai Message \u001b[0m==================================\n",
      "Name: Bot\n",
      "\n",
      "So you said you wanted to know interesting facts about cosmos?\n",
      "================================\u001b[1m Human Message \u001b[0m=================================\n",
      "Name: arnav\n",
      "\n",
      "Yes, I know about black holes. But what other celestial bodies should I learn about?\n",
      "==================================\u001b[1m Ai Message \u001b[0m==================================\n",
      "\n",
      "Apart from black holes, there are many fascinating celestial bodies and phenomena in the universe worth exploring. Here are a few you might find interesting:\n",
      "\n",
      "1. **Neutron Stars**: These are incredibly dense remnants of massive stars that have exploded in supernovae. A neutron star can pack more mass than the Sun into a city-sized sphere, making them one of the densest types of objects in the universe.\n",
      "\n",
      "2. **Pulsars**: A type of neutron star that emits beams of radiation from its magnetic poles. As they rotate, these beams sweep across space, and if one of them crosses Earth, it can be detected as a pulsating radio signal.\n",
      "\n",
      "3. **Quasars**: Extremely bright and distant objects powered by supermassive black holes at the centers of galaxies. They are some of the oldest and most energetic objects in the universe.\n",
      "\n",
      "4. **Exoplanets**: Planets that orbit stars outside our solar system. The study of exoplanets is a rapidly growing field, with thousands of exoplanets discovered that vary widely in size, composition, and orbit.\n",
      "\n",
      "5. **Brown Dwarfs**: Objects that are too large to be considered planets and too small to sustain hydrogen fusion reactions in their cores, which is the process that powers stars.\n",
      "\n",
      "6. **Gamma-ray Bursts (GRBs)**: Extremely energetic explosions observed in distant galaxies, considered to be the most luminous electromagnetic events in the universe.\n",
      "\n",
      "7. **Supernovae**: The explosive death of stars, marking the end of their lifecycle, often resulting in either a neutron star or black hole. They play a crucial role in dispersing heavy elements throughout the universe.\n",
      "\n",
      "8. **Dark Matter**: While not a celestial body, this hypothetical form of matter makes up about 27% of the universe. It does not emit or interact with electromagnetic radiation like ordinary matter, making it invisible and detectable only through its gravitational effects.\n",
      "\n",
      "9. **Dark Energy**: Another mysterious force, thought to be responsible for the accelerated expansion of the universe. It constitutes about 68% of the universe.\n",
      "\n",
      "10. **White Dwarfs**: The remnants of stars like our Sun, after they have exhausted their nuclear fuel and shed their outer layers, leaving behind a hot, dense core.\n",
      "\n",
      "Each of these celestial phenomena offers a unique insight into the workings of the universe and the forces that shape it.\n"
     ]
    }
   ],
   "source": [
    "output = graph.invoke({'messages': messages})\n",
    "for m in output['messages']:\n",
    "    m.pretty_print()"
   ]
  },
  {
   "cell_type": "markdown",
   "id": "34c33e63-1ef4-412d-bb10-6a1b9e5b35a7",
   "metadata": {},
   "source": [
    "## Reducer"
   ]
  },
  {
   "cell_type": "code",
   "execution_count": 37,
   "id": "222c6bc5-bb0e-4a43-80f5-c8ec38d99f3a",
   "metadata": {},
   "outputs": [
    {
     "data": {
      "image/png": "[encoded data removed]",
      "text/plain": [
       "<IPython.core.display.Image object>"
      ]
     },
     "metadata": {},
     "output_type": "display_data"
    }
   ],
   "source": [
    "from langchain_core.messages import RemoveMessage\n",
    "\n",
    "# Nodes\n",
    "def filter_messages(state: MessagesState):\n",
    "    # Delete all but the 2 most recent messages\n",
    "    delete_messages = [RemoveMessage(id=m.id) for m in state[\"messages\"][:-2]]\n",
    "    return {\"messages\": delete_messages}\n",
    "\n",
    "def chat_model_node(state: MessagesState):    \n",
    "    return {\"messages\": [llm.invoke(state[\"messages\"])]}\n",
    "\n",
    "# Build graph\n",
    "builder = StateGraph(MessagesState)\n",
    "builder.add_node(\"filter\", filter_messages)\n",
    "builder.add_node(\"chat_model\", chat_model_node)\n",
    "builder.add_edge(START, \"filter\")\n",
    "builder.add_edge(\"filter\", \"chat_model\")\n",
    "builder.add_edge(\"chat_model\", END)\n",
    "graph = builder.compile()\n",
    "\n",
    "# View\n",
    "display(Image(graph.get_graph().draw_mermaid_png()))"
   ]
  },
  {
   "cell_type": "code",
   "execution_count": 38,
   "id": "95a7c2cc-54ce-43e7-9a90-abf37827d709",
   "metadata": {},
   "outputs": [
    {
     "name": "stdout",
     "output_type": "stream",
     "text": [
      "==================================\u001b[1m Ai Message \u001b[0m==================================\n",
      "Name: Bot\n",
      "\n",
      "So you said you wanted to know interesting facts about cosmos??\n",
      "================================\u001b[1m Human Message \u001b[0m=================================\n",
      "Name: arnav\n",
      "\n",
      "Yes, I know about black holes. But what other celestial bodies should I learn about?\n",
      "==================================\u001b[1m Ai Message \u001b[0m==================================\n",
      "\n",
      "There’s a vast array of fascinating celestial bodies to explore beyond black holes. Here are a few you might find interesting:\n",
      "\n",
      "1. **Neutron Stars**: These are the remnants of massive stars that have exploded in supernovae. They're incredibly dense, with the mass of about 1.4 times that of the sun packed into a sphere with a radius of only about 10 kilometers.\n",
      "\n",
      "2. **Pulsars**: A type of neutron star that emits beams of radiation from its magnetic poles. As the star rotates, these beams sweep across the sky, appearing to pulse, which is how they got their name.\n",
      "\n",
      "3. **Quasars**: Extremely bright and distant objects believed to be powered by supermassive black holes at the centers of young galaxies. They are some of the most luminous objects in the universe.\n",
      "\n",
      "4. **White Dwarfs**: These are the remnants of medium-sized stars like our sun. After exhausting their nuclear fuel, the stars shed their outer layers and leave behind a hot core that slowly cools over time.\n",
      "\n",
      "5. **Brown Dwarfs**: Sometimes referred to as \"failed stars,\" these objects are too large to be planets but too small to sustain the nuclear fusion reactions that power stars.\n",
      "\n",
      "6. **Exoplanets**: Planets beyond our solar system. With thousands identified and categorized, they offer exciting possibilities about the diversity of planetary systems, some of which might harbor life.\n",
      "\n",
      "7. **Galaxies**: Massive systems of stars, interstellar gas, dust, and dark matter, each unique in shape and structure, from spiral and elliptical to irregular galaxies.\n",
      "\n",
      "8. **Dark Matter and Dark Energy**: While not celestial bodies in the traditional sense, understanding these components is crucial as dark matter makes up about 27% of the universe, and dark energy about 68%.\n",
      "\n",
      "9. **Star Clusters**: Groups of stars that are gravitationally bound. These can be open clusters, which are relatively young and found in the galaxy's disk, or globular clusters, which are older and located in the galaxy's halo.\n",
      "\n",
      "10. **Supernovae**: Explosive deaths of stars that can outshine entire galaxies for a short period and lead to the formation of neutron stars or black holes.\n",
      "\n",
      "Exploring these celestial entities and phenomena can give you a deeper understanding of the universe’s complexity and the forces and processes that shape it.\n"
     ]
    }
   ],
   "source": [
    "# Message list with a preamble\n",
    "messages = [AIMessage(\"Hi.\", name=\"Bot\", id=\"1\")]\n",
    "messages.append(HumanMessage(\"Hi.\", name=\"arnav\", id=\"2\"))\n",
    "messages.append(AIMessage(\"So you said you wanted to know interesting facts about cosmos??\", name=\"Bot\", id=\"3\"))\n",
    "messages.append(HumanMessage(\"Yes, I know about black holes. But what other celestial bodies should I learn about?\", name=\"arnav\", id=\"4\"))\n",
    "\n",
    "# Invoke\n",
    "output = graph.invoke({'messages': messages})\n",
    "for m in output['messages']:\n",
    "    m.pretty_print()"
   ]
  },
  {
   "cell_type": "markdown",
   "id": "f506457d-014b-4fee-a684-e5edfb4b8f0d",
   "metadata": {},
   "source": [
    "## Filtering messages\n",
    "\n"
   ]
  },
  {
   "cell_type": "code",
   "execution_count": 39,
   "id": "22d0b904-7cd6-486b-8948-105bee3d4683",
   "metadata": {},
   "outputs": [
    {
     "data": {
      "image/png": "[encoded data removed]",
      "text/plain": [
       "<IPython.core.display.Image object>"
      ]
     },
     "metadata": {},
     "output_type": "display_data"
    }
   ],
   "source": [
    "# Node\n",
    "def chat_model_node(state: MessagesState):\n",
    "    return {\"messages\": [llm.invoke(state[\"messages\"][-1:])]}\n",
    "\n",
    "# Build graph\n",
    "builder = StateGraph(MessagesState)\n",
    "builder.add_node(\"chat_model\", chat_model_node)\n",
    "builder.add_edge(START, \"chat_model\")\n",
    "builder.add_edge(\"chat_model\", END)\n",
    "graph = builder.compile()\n",
    "\n",
    "# View\n",
    "display(Image(graph.get_graph().draw_mermaid_png()))"
   ]
  },
  {
   "cell_type": "code",
   "execution_count": 40,
   "id": "16956015-1dbe-4108-89b5-4209b68b51ca",
   "metadata": {},
   "outputs": [],
   "source": [
    "messages.append(output['messages'][-1])\n",
    "messages.append(HumanMessage(f\"Tell me more about the origin of universe and big bang!\", name=\"arnav\"))"
   ]
  },
  {
   "cell_type": "code",
   "execution_count": 41,
   "id": "85563415-c085-46a8-a4ac-155df798c54e",
   "metadata": {},
   "outputs": [
    {
     "name": "stdout",
     "output_type": "stream",
     "text": [
      "==================================\u001b[1m Ai Message \u001b[0m==================================\n",
      "Name: Bot\n",
      "\n",
      "Hi.\n",
      "================================\u001b[1m Human Message \u001b[0m=================================\n",
      "Name: arnav\n",
      "\n",
      "Hi.\n",
      "==================================\u001b[1m Ai Message \u001b[0m==================================\n",
      "Name: Bot\n",
      "\n",
      "So you said you wanted to know interesting facts about cosmos??\n",
      "================================\u001b[1m Human Message \u001b[0m=================================\n",
      "Name: arnav\n",
      "\n",
      "Yes, I know about black holes. But what other celestial bodies should I learn about?\n",
      "==================================\u001b[1m Ai Message \u001b[0m==================================\n",
      "\n",
      "There’s a vast array of fascinating celestial bodies to explore beyond black holes. Here are a few you might find interesting:\n",
      "\n",
      "1. **Neutron Stars**: These are the remnants of massive stars that have exploded in supernovae. They're incredibly dense, with the mass of about 1.4 times that of the sun packed into a sphere with a radius of only about 10 kilometers.\n",
      "\n",
      "2. **Pulsars**: A type of neutron star that emits beams of radiation from its magnetic poles. As the star rotates, these beams sweep across the sky, appearing to pulse, which is how they got their name.\n",
      "\n",
      "3. **Quasars**: Extremely bright and distant objects believed to be powered by supermassive black holes at the centers of young galaxies. They are some of the most luminous objects in the universe.\n",
      "\n",
      "4. **White Dwarfs**: These are the remnants of medium-sized stars like our sun. After exhausting their nuclear fuel, the stars shed their outer layers and leave behind a hot core that slowly cools over time.\n",
      "\n",
      "5. **Brown Dwarfs**: Sometimes referred to as \"failed stars,\" these objects are too large to be planets but too small to sustain the nuclear fusion reactions that power stars.\n",
      "\n",
      "6. **Exoplanets**: Planets beyond our solar system. With thousands identified and categorized, they offer exciting possibilities about the diversity of planetary systems, some of which might harbor life.\n",
      "\n",
      "7. **Galaxies**: Massive systems of stars, interstellar gas, dust, and dark matter, each unique in shape and structure, from spiral and elliptical to irregular galaxies.\n",
      "\n",
      "8. **Dark Matter and Dark Energy**: While not celestial bodies in the traditional sense, understanding these components is crucial as dark matter makes up about 27% of the universe, and dark energy about 68%.\n",
      "\n",
      "9. **Star Clusters**: Groups of stars that are gravitationally bound. These can be open clusters, which are relatively young and found in the galaxy's disk, or globular clusters, which are older and located in the galaxy's halo.\n",
      "\n",
      "10. **Supernovae**: Explosive deaths of stars that can outshine entire galaxies for a short period and lead to the formation of neutron stars or black holes.\n",
      "\n",
      "Exploring these celestial entities and phenomena can give you a deeper understanding of the universe’s complexity and the forces and processes that shape it.\n",
      "================================\u001b[1m Human Message \u001b[0m=================================\n",
      "Name: arnav\n",
      "\n",
      "Tell me more about the origin of universe and big bang!\n"
     ]
    }
   ],
   "source": [
    "for m in messages:\n",
    "    m.pretty_print()"
   ]
  },
  {
   "cell_type": "code",
   "execution_count": 42,
   "id": "23349705-a059-47b5-9760-d8f64e687393",
   "metadata": {},
   "outputs": [
    {
     "name": "stdout",
     "output_type": "stream",
     "text": [
      "==================================\u001b[1m Ai Message \u001b[0m==================================\n",
      "Name: Bot\n",
      "\n",
      "Hi.\n",
      "================================\u001b[1m Human Message \u001b[0m=================================\n",
      "Name: arnav\n",
      "\n",
      "Hi.\n",
      "==================================\u001b[1m Ai Message \u001b[0m==================================\n",
      "Name: Bot\n",
      "\n",
      "So you said you wanted to know interesting facts about cosmos??\n",
      "================================\u001b[1m Human Message \u001b[0m=================================\n",
      "Name: arnav\n",
      "\n",
      "Yes, I know about black holes. But what other celestial bodies should I learn about?\n",
      "==================================\u001b[1m Ai Message \u001b[0m==================================\n",
      "\n",
      "There’s a vast array of fascinating celestial bodies to explore beyond black holes. Here are a few you might find interesting:\n",
      "\n",
      "1. **Neutron Stars**: These are the remnants of massive stars that have exploded in supernovae. They're incredibly dense, with the mass of about 1.4 times that of the sun packed into a sphere with a radius of only about 10 kilometers.\n",
      "\n",
      "2. **Pulsars**: A type of neutron star that emits beams of radiation from its magnetic poles. As the star rotates, these beams sweep across the sky, appearing to pulse, which is how they got their name.\n",
      "\n",
      "3. **Quasars**: Extremely bright and distant objects believed to be powered by supermassive black holes at the centers of young galaxies. They are some of the most luminous objects in the universe.\n",
      "\n",
      "4. **White Dwarfs**: These are the remnants of medium-sized stars like our sun. After exhausting their nuclear fuel, the stars shed their outer layers and leave behind a hot core that slowly cools over time.\n",
      "\n",
      "5. **Brown Dwarfs**: Sometimes referred to as \"failed stars,\" these objects are too large to be planets but too small to sustain the nuclear fusion reactions that power stars.\n",
      "\n",
      "6. **Exoplanets**: Planets beyond our solar system. With thousands identified and categorized, they offer exciting possibilities about the diversity of planetary systems, some of which might harbor life.\n",
      "\n",
      "7. **Galaxies**: Massive systems of stars, interstellar gas, dust, and dark matter, each unique in shape and structure, from spiral and elliptical to irregular galaxies.\n",
      "\n",
      "8. **Dark Matter and Dark Energy**: While not celestial bodies in the traditional sense, understanding these components is crucial as dark matter makes up about 27% of the universe, and dark energy about 68%.\n",
      "\n",
      "9. **Star Clusters**: Groups of stars that are gravitationally bound. These can be open clusters, which are relatively young and found in the galaxy's disk, or globular clusters, which are older and located in the galaxy's halo.\n",
      "\n",
      "10. **Supernovae**: Explosive deaths of stars that can outshine entire galaxies for a short period and lead to the formation of neutron stars or black holes.\n",
      "\n",
      "Exploring these celestial entities and phenomena can give you a deeper understanding of the universe’s complexity and the forces and processes that shape it.\n",
      "================================\u001b[1m Human Message \u001b[0m=================================\n",
      "Name: arnav\n",
      "\n",
      "Tell me more about the origin of universe and big bang!\n",
      "==================================\u001b[1m Ai Message \u001b[0m==================================\n",
      "\n",
      "The origin of the universe is a profound question that has intrigued humanity for centuries. The most widely accepted scientific explanation for the origin is the Big Bang theory. Here's a summary of the theory and its implications:\n",
      "\n",
      "1. **The Big Bang Theory**: This theory posits that the universe began as an extremely hot and dense point, often referred to as a \"singularity,\" approximately 13.8 billion years ago. From this singularity, the universe began to expand rapidly in an event known as the Big Bang.\n",
      "\n",
      "2. **Expansion of the Universe**: The universe has been expanding ever since the Big Bang. This was first observed by astronomer Edwin Hubble in the 1920s, who discovered that galaxies are moving away from us in all directions, implying that the universe itself is expanding.\n",
      "\n",
      "3. **Cosmic Microwave Background Radiation**: The Big Bang theory is supported by the discovery of the cosmic microwave background (CMB) radiation, which is thermal radiation left over from the early stages of the universe. The CMB provides a snapshot of the infant universe, roughly 380,000 years after the Big Bang, at a point when atoms first formed and the universe became transparent to radiation.\n",
      "\n",
      "4. **Nucleosynthesis**: In the first few minutes after the Big Bang, the universe was hot and dense enough for nuclear fusion to occur, leading to the formation of light elements like hydrogen, helium, and small amounts of lithium and beryllium. This process is known as Big Bang nucleosynthesis and provides further evidence for the Big Bang theory.\n",
      "\n",
      "5. **Formation of Structure**: Over billions of years, matter began to clump together under the influence of gravity, forming stars, galaxies, and larger structures such as galaxy clusters and superclusters.\n",
      "\n",
      "6. **Dark Matter and Dark Energy**: Observations suggest that the visible matter in the universe accounts for only about 5% of its total content. The rest is thought to be made up of dark matter (about 27%), which interacts with regular matter gravitationally but not electromagnetically, and dark energy (about 68%), which is believed to be responsible for the accelerated expansion of the universe.\n",
      "\n",
      "7. **The Fate of the Universe**: The eventual fate of the universe remains uncertain and is a topic of ongoing research. Possibilities include continued expansion, leading to a \"big freeze\" where the universe becomes cold and dark, or a \"big crunch,\" where gravity could eventually stop the expansion and reverse it.\n",
      "\n",
      "The Big Bang theory has become the cornerstone of modern cosmology and is supported by a wide range of observational evidence. However, it is an active area of research with many intriguing questions yet to be explored, such as the nature of dark matter and dark energy, and the conditions that led to the initial singularity.\n"
     ]
    }
   ],
   "source": [
    "# Invoke, using message filtering\n",
    "output = graph.invoke({'messages': messages})\n",
    "for m in output['messages']:\n",
    "    m.pretty_print()"
   ]
  },
  {
   "cell_type": "markdown",
   "id": "fc40d930-3c1f-47fe-8d2a-ce174873353c",
   "metadata": {},
   "source": [
    "## Trim messages"
   ]
  },
  {
   "cell_type": "code",
   "execution_count": 43,
   "id": "2ff99b81-cf03-4cc2-b44f-44829a73e1fd",
   "metadata": {},
   "outputs": [
    {
     "data": {
      "image/png": "[encoded data removed]",
      "text/plain": [
       "<IPython.core.display.Image object>"
      ]
     },
     "metadata": {},
     "output_type": "display_data"
    }
   ],
   "source": [
    "from langchain_core.messages import trim_messages\n",
    "\n",
    "# Node\n",
    "def chat_model_node(state: MessagesState):\n",
    "    messages = trim_messages(\n",
    "            state[\"messages\"],\n",
    "            max_tokens=100,\n",
    "            strategy=\"last\",\n",
    "            token_counter=ChatOpenAI(model=\"gpt-4o\"),\n",
    "            allow_partial=False,\n",
    "        )\n",
    "    return {\"messages\": [llm.invoke(messages)]}\n",
    "\n",
    "# Build graph\n",
    "builder = StateGraph(MessagesState)\n",
    "builder.add_node(\"chat_model\", chat_model_node)\n",
    "builder.add_edge(START, \"chat_model\")\n",
    "builder.add_edge(\"chat_model\", END)\n",
    "graph = builder.compile()\n",
    "\n",
    "# View\n",
    "display(Image(graph.get_graph().draw_mermaid_png()))"
   ]
  },
  {
   "cell_type": "code",
   "execution_count": 44,
   "id": "24df63ac-da29-4874-b3df-7e390e97cc8a",
   "metadata": {},
   "outputs": [],
   "source": [
    "messages.append(output['messages'][-1])\n",
    "messages.append(HumanMessage(f\"Tell me about neutron stars\", name=\"arnav\"))"
   ]
  },
  {
   "cell_type": "code",
   "execution_count": 45,
   "id": "6d9d8971-c75c-43ca-a209-eb1d07b2ead0",
   "metadata": {},
   "outputs": [
    {
     "data": {
      "text/plain": [
       "[HumanMessage(content='Tell me about neutron stars', additional_kwargs={}, response_metadata={}, name='arnav')]"
      ]
     },
     "execution_count": 45,
     "metadata": {},
     "output_type": "execute_result"
    }
   ],
   "source": [
    "# Example of trimming messages\n",
    "trim_messages(\n",
    "            messages,\n",
    "            max_tokens=100,\n",
    "            strategy=\"last\",\n",
    "            token_counter=ChatOpenAI(model=\"gpt-4o\"),\n",
    "            allow_partial=False\n",
    "        )"
   ]
  },
  {
   "cell_type": "code",
   "execution_count": 46,
   "id": "ed70a269-a869-4fa0-a1df-29736a432c51",
   "metadata": {},
   "outputs": [],
   "source": [
    "# Invoke, using message trimming in the chat_model_node \n",
    "messages_out_trim = graph.invoke({'messages': messages})"
   ]
  }
 ],
 "metadata": {
  "kernelspec": {
   "display_name": ".venv",
   "language": "python",
   "name": "python3"
  },
  "language_info": {
   "codemirror_mode": {
    "name": "ipython",
    "version": 3
   },
   "file_extension": ".py",
   "mimetype": "text/x-python",
   "name": "python",
   "nbconvert_exporter": "python",
   "pygments_lexer": "ipython3",
   "version": "3.13.5"
  }
 },
 "nbformat": 4,
 "nbformat_minor": 5
}
