{
 "cells": [
  {
   "cell_type": "markdown",
   "id": "e40206ea",
   "metadata": {},
   "source": [
    "SETUP AND LOAD API KEYS"
   ]
  },
  {
   "cell_type": "code",
   "execution_count": 1,
   "id": "0f9a52c8",
   "metadata": {},
   "outputs": [],
   "source": [
    "%%capture --no-stderr\n",
    "%pip install --quiet -U langchain_openai langchain_core langchain_community tavily-python"
   ]
  },
  {
   "cell_type": "code",
   "execution_count": 2,
   "id": "c2a15227",
   "metadata": {},
   "outputs": [],
   "source": [
    "import os, getpass\n",
    "from dotenv import load_dotenv\n",
    "load_dotenv()\n",
    "\n",
    "\n",
    "def _set_env(var: str):\n",
    "    if not os.environ.get(var):\n",
    "        os.environ[var] = getpass.getpass(f\"{var}: \")\n",
    "\n",
    "_set_env(\"OPENAI_API_KEY\")"
   ]
  },
  {
   "cell_type": "code",
   "execution_count": 3,
   "id": "e19a54d3",
   "metadata": {},
   "outputs": [],
   "source": [
    "from langchain_openai import ChatOpenAI\n",
    "gpt4o_chat = ChatOpenAI(model=\"gpt-4o\", temperature=0)\n",
    "gpt35_chat = ChatOpenAI(model=\"gpt-3.5-turbo-0125\", temperature=0)"
   ]
  },
  {
   "cell_type": "code",
   "execution_count": 4,
   "id": "b1280e1b",
   "metadata": {},
   "outputs": [
    {
     "data": {
      "text/plain": [
       "AIMessage(content='Hello! How can I assist you today?', additional_kwargs={'refusal': None}, response_metadata={'token_usage': {'completion_tokens': 9, 'prompt_tokens': 11, 'total_tokens': 20, 'completion_tokens_details': {'accepted_prediction_tokens': 0, 'audio_tokens': 0, 'reasoning_tokens': 0, 'rejected_prediction_tokens': 0}, 'prompt_tokens_details': {'audio_tokens': 0, 'cached_tokens': 0}}, 'model_name': 'gpt-4o-2024-08-06', 'system_fingerprint': 'fp_eb3c3cb84d', 'id': 'chatcmpl-CRBiB2OKReHDZmnr5zbMzmtbD17cH', 'service_tier': 'default', 'finish_reason': 'stop', 'logprobs': None}, id='run--2383039d-5e9e-4933-9406-f7c7782a9daa-0', usage_metadata={'input_tokens': 11, 'output_tokens': 9, 'total_tokens': 20, 'input_token_details': {'audio': 0, 'cache_read': 0}, 'output_token_details': {'audio': 0, 'reasoning': 0}})"
      ]
     },
     "execution_count": 4,
     "metadata": {},
     "output_type": "execute_result"
    }
   ],
   "source": [
    "from langchain_core.messages import HumanMessage\n",
    "\n",
    "# Create a message\n",
    "msg = HumanMessage(content=\"Hello world\", name=\"Lance\")\n",
    "\n",
    "# Message list\n",
    "messages = [msg]\n",
    "\n",
    "# Invoke the model with a list of messages \n",
    "gpt4o_chat.invoke(messages)"
   ]
  },
  {
   "cell_type": "code",
   "execution_count": 5,
   "id": "f0698a02",
   "metadata": {},
   "outputs": [
    {
     "data": {
      "text/plain": [
       "\"LangGraph is a tool designed to facilitate the creation and visualization of language models and their interactions. It is often used in the field of natural language processing (NLP) to help researchers and developers understand and optimize the performance of language models. LangGraph can be used to:\\n\\n1. **Visualize Language Models**: It provides graphical representations of language models, making it easier to understand their structure and behavior.\\n\\n2. **Analyze Interactions**: By visualizing how different components of a language model interact, users can gain insights into the model's decision-making processes.\\n\\n3. **Optimize Performance**: By identifying bottlenecks or inefficiencies in a language model, LangGraph can help in optimizing its performance.\\n\\n4. **Educational Purposes**: It serves as a valuable educational tool for those learning about language models and their applications in NLP.\\n\\nOverall, LangGraph is a useful tool for anyone working with language models, whether for research, development, or educational purposes.\""
      ]
     },
     "execution_count": 5,
     "metadata": {},
     "output_type": "execute_result"
    }
   ],
   "source": [
    "gpt4o_chat.invoke(\"What is langgraph used for?\").content"
   ]
  },
  {
   "cell_type": "code",
   "execution_count": 6,
   "id": "3da37e95",
   "metadata": {},
   "outputs": [
    {
     "data": {
      "text/plain": [
       "\"LangChain, LangSmith, and LangGraph are related in the context of building and managing applications that utilize large language models (LLMs) and other AI technologies. Here's a brief overview of each and how they are connected:\\n\\n1. **LangChain**: LangChain is a framework designed to simplify the development of applications that use large language models. It provides tools and abstractions to help developers chain together different components, such as LLMs, APIs, and data sources, to create complex workflows. LangChain is particularly useful for tasks like natural language processing, conversational AI, and other applications that require integrating multiple AI and data components.\\n\\n2. **LangSmith**: LangSmith is a platform or toolset that complements LangChain by providing features for monitoring, debugging, and improving applications built with LLMs. It focuses on the operational aspects of managing AI applications, such as tracking performance, identifying issues, and optimizing workflows. LangSmith helps developers ensure that their applications are running smoothly and efficiently.\\n\\n3. **LangGraph**: LangGraph is a tool or concept that deals with the visualization and management of the workflows and data flows within applications that use LLMs. It provides a graphical representation of how different components and data sources are connected, making it easier to understand and optimize the architecture of AI applications. LangGraph can be particularly useful for designing and refining complex workflows in a visual manner.\\n\\nIn summary, LangChain provides the framework for building AI applications, LangSmith offers tools for managing and optimizing these applications, and LangGraph helps visualize and manage the workflows within them. Together, they form a comprehensive ecosystem for developing, deploying, and maintaining applications that leverage large language models and other AI technologies.\""
      ]
     },
     "execution_count": 6,
     "metadata": {},
     "output_type": "execute_result"
    }
   ],
   "source": [
    "gpt4o_chat.invoke(\"How are langchain, langsmith and langgraph related?\").content"
   ]
  },
  {
   "cell_type": "code",
   "execution_count": 7,
   "id": "f27c6c9a",
   "metadata": {},
   "outputs": [
    {
     "data": {
      "text/plain": [
       "AIMessage(content='Hello! How can I assist you today?', additional_kwargs={'refusal': None}, response_metadata={'token_usage': {'completion_tokens': 9, 'prompt_tokens': 9, 'total_tokens': 18, 'completion_tokens_details': {'accepted_prediction_tokens': 0, 'audio_tokens': 0, 'reasoning_tokens': 0, 'rejected_prediction_tokens': 0}, 'prompt_tokens_details': {'audio_tokens': 0, 'cached_tokens': 0}}, 'model_name': 'gpt-4o-2024-08-06', 'system_fingerprint': 'fp_eb3c3cb84d', 'id': 'chatcmpl-CRBiOQoD0UdFCFpEIBbTKJKZT8MdU', 'service_tier': 'default', 'finish_reason': 'stop', 'logprobs': None}, id='run--f6c2d9ac-4720-4ebe-a813-54107c151a78-0', usage_metadata={'input_tokens': 9, 'output_tokens': 9, 'total_tokens': 18, 'input_token_details': {'audio': 0, 'cache_read': 0}, 'output_token_details': {'audio': 0, 'reasoning': 0}})"
      ]
     },
     "execution_count": 7,
     "metadata": {},
     "output_type": "execute_result"
    }
   ],
   "source": [
    "gpt4o_chat.invoke(\"hello world\")"
   ]
  },
  {
   "cell_type": "code",
   "execution_count": 8,
   "id": "fdc2f0ca",
   "metadata": {},
   "outputs": [
    {
     "data": {
      "text/plain": [
       "AIMessage(content='Hello! How can I assist you today?', additional_kwargs={'refusal': None}, response_metadata={'token_usage': {'completion_tokens': 9, 'prompt_tokens': 9, 'total_tokens': 18, 'completion_tokens_details': {'accepted_prediction_tokens': 0, 'audio_tokens': 0, 'reasoning_tokens': 0, 'rejected_prediction_tokens': 0}, 'prompt_tokens_details': {'audio_tokens': 0, 'cached_tokens': 0}}, 'model_name': 'gpt-3.5-turbo-0125', 'system_fingerprint': None, 'id': 'chatcmpl-CRBiQT1LCXAK3uiMkZ1fqed7HREnJ', 'service_tier': 'default', 'finish_reason': 'stop', 'logprobs': None}, id='run--fd00f488-5eb2-4e27-9f3b-b74da96b4001-0', usage_metadata={'input_tokens': 9, 'output_tokens': 9, 'total_tokens': 18, 'input_token_details': {'audio': 0, 'cache_read': 0}, 'output_token_details': {'audio': 0, 'reasoning': 0}})"
      ]
     },
     "execution_count": 8,
     "metadata": {},
     "output_type": "execute_result"
    }
   ],
   "source": [
    "gpt35_chat.invoke(\"hello world\")"
   ]
  },
  {
   "cell_type": "code",
   "execution_count": 9,
   "id": "091dff13",
   "metadata": {},
   "outputs": [],
   "source": [
    "_set_env(\"TAVILY_API_KEY\")"
   ]
  },
  {
   "cell_type": "code",
   "execution_count": 10,
   "id": "52d69da9",
   "metadata": {},
   "outputs": [
    {
     "name": "stderr",
     "output_type": "stream",
     "text": [
      "C:\\Users\\ACER\\AppData\\Local\\Temp\\ipykernel_21716\\3227139208.py:2: LangChainDeprecationWarning: The class `TavilySearchResults` was deprecated in LangChain 0.3.25 and will be removed in 1.0. An updated version of the class exists in the :class:`~langchain-tavily package and should be used instead. To use it run `pip install -U :class:`~langchain-tavily` and import as `from :class:`~langchain_tavily import TavilySearch``.\n",
      "  tavily_search = TavilySearchResults(max_results=3)\n"
     ]
    }
   ],
   "source": [
    "from langchain_community.tools.tavily_search import TavilySearchResults\n",
    "tavily_search = TavilySearchResults(max_results=3)\n",
    "search_docs = tavily_search.invoke(\"What is LangGraph?\")"
   ]
  },
  {
   "cell_type": "code",
   "execution_count": 11,
   "id": "d06f87e6",
   "metadata": {},
   "outputs": [
    {
     "data": {
      "text/plain": [
       "[{'title': 'What is LangGraph? - IBM',\n",
       "  'url': 'https://www.ibm.com/think/topics/langgraph',\n",
       "  'content': '*   [Overview](https://www.ibm.com/think/topics/ai-agents#7281535) *   [Overview](https://www.ibm.com/think/topics/components-of-ai-agents#498277090) *   [Learning](https://www.ibm.com/think/topics/ai-agent-learning#498277087) *   [Tutorial: LangGraph ReAct agent](https://www.ibm.com/think/tutorials/deploy-langgraph-react-agent-manage-it-support-tickets-watsonx-ai#1287801557) *   [Overview](https://www.ibm.com/think/topics/ai-agent-protocols#1509394340) *   [Tutorial: LangGraph ReAct agent](https://www.ibm.com/think/tutorials/deploy-langgraph-react-agent-manage-it-support-tickets-watsonx-ai#80364620) *   [Overview](https://www.ibm.com/think/insights/ai-agent-governance#1268897081) *   [Overview](https://www.ibm.com/think/topics/ai-agent-use-cases#257779831) *   [Human resources](https://www.ibm.com/think/topics/ai-agents-in-human-resources#257779835) LangGraph, created by [LangChain](https://www.ibm.com/think/topics/langchain), is an open source AI agent framework designed to build, deploy and manage complex generative AI agent workflows. At its core, LangGraph uses the power of graph-based architectures to model and manage the intricate relationships between various components of an [AI agent workflow](https://www.ibm.com/think/topics/ai-agents). LangGraph is also built on several key technologies, including [LangChain,](https://www.ibm.com/think/topics/langchain) a Python framework for building AI applications. By combining these technologies with a set of APIs and tools, LangGraph provides users with a versatile platform for developing AI solutions and workflows including [chatbots](https://www.ibm.com/think/topics/chatbots), state graphs and [other agent-based systems](https://www.ibm.com/think/topics/multiagent-system).',\n",
       "  'score': 0.98557},\n",
       " {'title': 'LangGraph - LangChain',\n",
       "  'url': 'https://www.langchain.com/langgraph',\n",
       "  'content': \"[___](https://www.langchain.com/langgraph#) [LangSmith](https://www.langchain.com/langsmith)[LangGraph Platform](https://www.langchain.com/langgraph-platform) [LangGraph](https://langchain-ai.github.io/langgraph/tutorials/introduction/)[LangSmith](https://docs.langchain.com/langsmith/home)[LangChain](https://python.langchain.com/docs/introduction/) [See LangGraph use cases in production](https://www.langchain.com/built-with-langgraph) ![Image 44](https://cdn.prod.website-files.com/65b8cd72835ceeacd4449a53/667b080e4b3ca12dc5d5d439_Langgraph%20UI-2.webp) [Read a conceptual guide](https://langchain-ai.github.io/langgraph/concepts/agentic_concepts/#human-in-the-loop) ![Image 47](https://cdn.prod.website-files.com/65b8cd72835ceeacd4449a53/6865b895f061b6f892568ff6_Modified-Customizable-Agent-Architectures_white.gif) [See different agent architectures](https://langchain-ai.github.io/langgraph/concepts/agentic_concepts/) [Learn about agent memory](https://langchain-ai.github.io/langgraph/concepts/memory/) [![Image 52](https://cdn.prod.website-files.com/65b8cd72835ceeacd4449a53/678e35d6c553c4fb20f9b753_Frame%2099644.webp)![Image 53](https://cdn.prod.website-files.com/65b8cd72835ceeacd4449a53/6787ae0bce5c99dd808545ce_card%202.webp)](https://academy.langchain.com/courses/intro-to-langgraph) Design agent-driven user experiences with LangGraph Platform's APIs. Quickly deploy and scale your application with infrastructure built for agents. [Hear how industry leaders use LangGraph](https://www.langchain.com/built-with-langgraph) The next chapter in building complex production-ready features with LLMs is agentic, and with LangGraph and LangSmith, LangChain delivers an out-of-the-box solution to iterate quickly, debug immediately, and scale effortlessly.” LangGraph Platform is a service for deploying and scaling LangGraph applications, with an opinionated API for building agent UXs, plus an integrated developer studio. For more information, see our [LangGraph Platform pricing page](https://www.langchain.com/pricing-langgraph-platform). ![Image 70](https://cdn.prod.website-files.com/65b8cd72835ceeacd4449a53/65c6a38f9c53ec71f5fc73de_langchain-word.svg)\",\n",
       "  'score': 0.98516},\n",
       " {'title': \"Introduction to LangGraph: A Beginner's Guide - Medium\",\n",
       "  'url': 'https://medium.com/@cplog/introduction-to-langgraph-a-beginners-guide-14f9be027141',\n",
       "  'content': '[Sign in](https://medium.com/m/signin?operation=login&redirect=https%3A%2F%2Fmedium.com%2F%40cplog%2Fintroduction-to-langgraph-a-beginners-guide-14f9be027141&source=post_page---top_nav_layout_nav-----------------------global_nav------------------) [Sign in](https://medium.com/m/signin?operation=login&redirect=https%3A%2F%2Fmedium.com%2F%40cplog%2Fintroduction-to-langgraph-a-beginners-guide-14f9be027141&source=post_page---top_nav_layout_nav-----------------------global_nav------------------) [What are your thoughts?](https://medium.com/m/signin?operation=register&redirect=https%3A%2F%2Fmedium.com%2F%40cplog%2Fintroduction-to-langgraph-a-beginners-guide-14f9be027141&source=---post_responses--14f9be027141---------------------respond_sidebar------------------) [Jul 22, 2024](https://medium.com/@mr.trkksarma/what-does-classify-do-in-this-a739fc7c86ab?source=post_page---post_responses--14f9be027141----1-----------------------------------) [Introduction to AI Agent with LangChain and LangGraph: A Beginner’s Guide ------------------------------------------------------------------------- ### Master Tool-Calling AI with LangGraph: A Comprehensive Guide to Building Conversational Agents, Elevating Your AI Projects to the Next…](https://medium.com/@cplog/building-tool-calling-conversational-ai-with-langchain-and-langgraph-a-beginners-guide-8d6986cc589e?source=post_page---author_recirc--14f9be027141----0---------------------06d96453_9ad2_4122_89f3_d27a42950a6f--------------) [1](https://medium.com/@cplog/building-tool-calling-conversational-ai-with-langchain-and-langgraph-a-beginners-guide-8d6986cc589e?source=post_page---author_recirc--14f9be027141----0---------------------06d96453_9ad2_4122_89f3_d27a42950a6f--------------) [1](https://medium.com/@pavan.nagula/building-a-deep-research-agent-with-langgraph-0-6-7-1904b4c8a620?source=post_page---read_next_recirc--14f9be027141----0---------------------254a93a1_cd7d_4af8_8aa2_49b76551bb2b--------------) They can…](https://medium.com/dailybetter/langgraph-from-beginner-to-expert-7-building-an-intelligent-chat-agent-58625695b135?source=post_page---read_next_recirc--14f9be027141----1---------------------254a93a1_cd7d_4af8_8aa2_49b76551bb2b--------------) [3](https://medium.com/dailybetter/langgraph-from-beginner-to-expert-7-building-an-intelligent-chat-agent-58625695b135?source=post_page---read_next_recirc--14f9be027141----1---------------------254a93a1_cd7d_4af8_8aa2_49b76551bb2b--------------) But here’s what nobody tells you upfront…](https://medium.com/@mothishdeenadayalan/langchain-vs-langgraph-the-beginners-guide-15daa489c018?source=post_page---read_next_recirc--14f9be027141----0---------------------254a93a1_cd7d_4af8_8aa2_49b76551bb2b--------------) [](https://medium.com/@mothishdeenadayalan/langchain-vs-langgraph-the-beginners-guide-15daa489c018?source=post_page---read_next_recirc--14f9be027141----0---------------------254a93a1_cd7d_4af8_8aa2_49b76551bb2b--------------) [](https://medium.com/m/signin?actionUrl=https%3A%2F%2Fmedium.com%2F_%2Fbookmark%2Fp%2F15daa489c018&operation=register&redirect=https%3A%2F%2Fmothishdeenadayalan.medium.com%2Flangchain-vs-langgraph-the-beginners-guide-15daa489c018&source=---read_next_recirc--14f9be027141----0-----------------bookmark_preview----254a93a1_cd7d_4af8_8aa2_49b76551bb2b--------------) [Understanding LangGraph: Creating Agentic AI Systems for Enterprise Applications -------------------------------------------------------------------------------- ### As enterprises move toward autonomous operations, they require systems that do more than just answer questions](https://medium.com/data-science-collective/understanding-langgraph-creating-agentic-ai-systems-enterprise-applications-7862f147b517?source=post_page---read_next_recirc--14f9be027141----1---------------------254a93a1_cd7d_4af8_8aa2_49b76551bb2b--------------) [8](https://medium.com/data-science-collective/understanding-langgraph-creating-agentic-ai-systems-enterprise-applications-7862f147b517?source=post_page---read_next_recirc--14f9be027141----1---------------------254a93a1_cd7d_4af8_8aa2_49b76551bb2b--------------) [](https://medium.com/m/signin?actionUrl=https%3A%2F%2Fmedium.com%2F_%2Fbookmark%2Fp%2F7862f147b517&operation=register&redirect=https%3A%2F%2Fmedium.com%2Fdata-science-collective%2Funderstanding-langgraph-creating-agentic-ai-systems-enterprise-applications-7862f147b517&source=---read_next_recirc--14f9be027141----1-----------------bookmark_preview----254a93a1_cd7d_4af8_8aa2_49b76551bb2b--------------) [How I Used LangGraph’s Prebuilt Agent and Visualised the Agent Graph -------------------------------------------------------------------- ### The https://langchain-ai.github.io/langgraph/agents/overview/ Overview page explains how to use create_react_agent to build an LLM agent…](https://medium.com/@lekha-bhan88/how-i-used-langgraphs-prebuilt-agent-and-visualised-the-agent-graph-22861f137e18?source=post_page---read_next_recirc--14f9be027141----2---------------------254a93a1_cd7d_4af8_8aa2_49b76551bb2b--------------) [](https://medium.com/@lekha-bhan88/how-i-used-langgraphs-prebuilt-agent-and-visualised-the-agent-graph-22861f137e18?source=post_page---read_next_recirc--14f9be027141----2---------------------254a93a1_cd7d_4af8_8aa2_49b76551bb2b--------------) [](https://medium.com/m/signin?actionUrl=https%3A%2F%2Fmedium.com%2F_%2Fbookmark%2Fp%2F22861f137e18&operation=register&redirect=https%3A%2F%2Flekha-bhan88.medium.com%2Fhow-i-used-langgraphs-prebuilt-agent-and-visualised-the-agent-graph-22861f137e18&source=---read_next_recirc--14f9be027141----2-----------------bookmark_preview----254a93a1_cd7d_4af8_8aa2_49b76551bb2b--------------) [](https://medium.com/@khasnobis.sanjit890/difference-between-lang-chain-and-lang-graph-land-of-agentic-ai-ff373240fa07?source=post_page---read_next_recirc--14f9be027141----3---------------------254a93a1_cd7d_4af8_8aa2_49b76551bb2b--------------) [](https://medium.com/m/signin?actionUrl=https%3A%2F%2Fmedium.com%2F_%2Fbookmark%2Fp%2Fff373240fa07&operation=register&redirect=https%3A%2F%2Fmedium.com%2F%40khasnobis.sanjit890%2Fdifference-between-lang-chain-and-lang-graph-land-of-agentic-ai-ff373240fa07&source=---read_next_recirc--14f9be027141----3-----------------bookmark_preview----254a93a1_cd7d_4af8_8aa2_49b76551bb2b--------------)',\n",
       "  'score': 0.98241}]"
      ]
     },
     "execution_count": 11,
     "metadata": {},
     "output_type": "execute_result"
    }
   ],
   "source": [
    "search_docs"
   ]
  }
 ],
 "metadata": {
  "kernelspec": {
   "display_name": ".venv",
   "language": "python",
   "name": "python3"
  },
  "language_info": {
   "codemirror_mode": {
    "name": "ipython",
    "version": 3
   },
   "file_extension": ".py",
   "mimetype": "text/x-python",
   "name": "python",
   "nbconvert_exporter": "python",
   "pygments_lexer": "ipython3",
   "version": "3.13.5"
  }
 },
 "nbformat": 4,
 "nbformat_minor": 5
}
