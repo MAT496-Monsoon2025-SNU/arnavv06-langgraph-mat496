{
 "cells": [
  {
   "cell_type": "markdown",
   "id": "36737349-c949-4d64-9aa3-3767cbd02ad1",
   "metadata": {},
   "source": [
    "# Map-reduce"
   ]
  },
  {
   "cell_type": "code",
   "execution_count": 13,
   "id": "f24e95c8",
   "metadata": {},
   "outputs": [],
   "source": [
    "%%capture --no-stderr\n",
    "%pip install -U langchain_openai langgraph"
   ]
  },
  {
   "cell_type": "code",
   "execution_count": 14,
   "id": "ff57cbf7",
   "metadata": {},
   "outputs": [],
   "source": [
    "import os, getpass\n",
    "\n",
    "def _set_env(var: str):\n",
    "    if not os.environ.get(var):\n",
    "        os.environ[var] = getpass.getpass(f\"{var}: \")\n",
    "\n",
    "_set_env(\"OPENAI_API_KEY\")"
   ]
  },
  {
   "cell_type": "code",
   "execution_count": 15,
   "id": "9fdc647f",
   "metadata": {},
   "outputs": [],
   "source": [
    "_set_env(\"LANGSMITH_API_KEY\")\n",
    "os.environ[\"LANGSMITH_TRACING\"] = \"true\"\n",
    "os.environ[\"LANGSMITH_PROJECT\"] = \"langchain-academy\""
   ]
  },
  {
   "cell_type": "markdown",
   "id": "2bbe9b9f-4375-4bca-8e32-7d57cb861469",
   "metadata": {},
   "source": [
    "## Problem"
   ]
  },
  {
   "cell_type": "code",
   "execution_count": 16,
   "id": "994cf903-1ed6-4ae2-b32a-7891a2808f81",
   "metadata": {},
   "outputs": [],
   "source": [
    "from langchain_openai import ChatOpenAI\n",
    "\n",
    "# Prompts we will use\n",
    "subjects_prompt = \"\"\"Generate a list of 3 sub-topics that are all related to this overall topic: {topic}.\"\"\"\n",
    "fact_prompt = \"\"\"Share an interesting and scientifically accurate cosmic fact about {subject}.\n",
    "Make it engaging, clear, and educational.\"\"\"\n",
    "best_fact_prompt = best_fact_prompt = \"\"\"Below are several cosmic facts about {topic}.\n",
    "Select the most interesting, accurate, and awe-inspiring one!\n",
    "Return the ID of the best fact, starting 0 as the ID for the first fact.\n",
    "Facts:\n",
    "{facts}\"\"\"\n",
    "\n",
    "# LLM\n",
    "model = ChatOpenAI(model=\"gpt-4o\", temperature=0) "
   ]
  },
  {
   "cell_type": "markdown",
   "id": "f3b883cc-3469-4e96-b1a4-deadf7bf3ce5",
   "metadata": {},
   "source": [
    "## State\n",
    "\n",
    "### Parallelizing fact generation\n",
    "\n"
   ]
  },
  {
   "cell_type": "code",
   "execution_count": 17,
   "id": "099218ca-ee78-4291-95a1-87ee61382e3b",
   "metadata": {},
   "outputs": [],
   "source": [
    "import operator\n",
    "from typing import Annotated\n",
    "from typing_extensions import TypedDict\n",
    "from pydantic import BaseModel\n",
    "\n",
    "class Subjects(BaseModel):\n",
    "    subjects: list[str]\n",
    "\n",
    "class BestFact(BaseModel):\n",
    "    id: int\n",
    "    \n",
    "class OverallState(TypedDict):\n",
    "    topic: str\n",
    "    subjects: list\n",
    "    facts: Annotated[list, operator.add]\n",
    "    best_selected_fact: str"
   ]
  },
  {
   "cell_type": "code",
   "execution_count": 18,
   "id": "45010efd-ad31-4daa-b77e-aaec79ef0309",
   "metadata": {},
   "outputs": [],
   "source": [
    "def generate_topics(state: OverallState):\n",
    "    prompt = subjects_prompt.format(topic=state[\"topic\"])\n",
    "    response = model.with_structured_output(Subjects).invoke(prompt)\n",
    "    return {\"subjects\": response.subjects}"
   ]
  },
  {
   "cell_type": "code",
   "execution_count": 19,
   "id": "bc83e575-11f6-41a9-990a-adb571bcda06",
   "metadata": {},
   "outputs": [],
   "source": [
    "from langgraph.types import Send\n",
    "def continue_to_facts(state: OverallState):\n",
    "    return [Send(\"generate_fact\", {\"subject\": s}) for s in state[\"subjects\"]]"
   ]
  },
  {
   "cell_type": "markdown",
   "id": "9847192d-d358-411e-90c0-f06be0738717",
   "metadata": {},
   "source": [
    "### Fact generation (map)\n",
    "\n"
   ]
  },
  {
   "cell_type": "code",
   "execution_count": 20,
   "id": "bcddc567-73d3-4fb3-bfc5-1bea538f2aab",
   "metadata": {},
   "outputs": [],
   "source": [
    "class FactState(TypedDict):\n",
    "    subject: str\n",
    "\n",
    "class Fact(BaseModel):\n",
    "    fact: str\n",
    "\n",
    "def generate_fact(state: FactState):\n",
    "    prompt = fact_prompt.format(subject=state[\"subject\"])\n",
    "    response = model.with_structured_output(Fact).invoke(prompt)\n",
    "    return {\"facts\": [response.fact]}"
   ]
  },
  {
   "cell_type": "markdown",
   "id": "02960657-d174-4076-99a8-b3f9eea015f4",
   "metadata": {},
   "source": [
    "### Best fact selection (reduce)"
   ]
  },
  {
   "cell_type": "code",
   "execution_count": 21,
   "id": "8d672870-75e3-4307-bda0-c41a86cbbaff",
   "metadata": {},
   "outputs": [],
   "source": [
    "def best_fact(state: OverallState):\n",
    "    facts = \"\\n\\n\".join(state[\"facts\"])\n",
    "    prompt = best_fact_prompt.format(topic=state[\"topic\"], facts=facts)\n",
    "    response = model.with_structured_output(BestFact).invoke(prompt)\n",
    "    return {\"best_selected_fact\": state[\"facts\"][response.id]}"
   ]
  },
  {
   "cell_type": "markdown",
   "id": "837cd12e-5bff-426e-97f4-c774df998cfb",
   "metadata": {},
   "source": [
    "## Compile"
   ]
  },
  {
   "cell_type": "code",
   "execution_count": 22,
   "id": "2ae6be4b-144e-483c-88ad-ce86d6477a0d",
   "metadata": {},
   "outputs": [
    {
     "data": {
      "image/png": "[encoded data removed]",
      "text/plain": [
       "<IPython.core.display.Image object>"
      ]
     },
     "execution_count": 22,
     "metadata": {},
     "output_type": "execute_result"
    }
   ],
   "source": [
    "from IPython.display import Image\n",
    "from langgraph.graph import END, StateGraph, START\n",
    "\n",
    "# Construct the graph: here we put everything together to construct our graph\n",
    "graph = StateGraph(OverallState)\n",
    "graph.add_node(\"generate_topics\", generate_topics)\n",
    "graph.add_node(\"generate_fact\", generate_fact)\n",
    "graph.add_node(\"best_fact\", best_fact)\n",
    "graph.add_edge(START, \"generate_topics\")\n",
    "graph.add_conditional_edges(\"generate_topics\", continue_to_facts, [\"generate_fact\"])\n",
    "graph.add_edge(\"generate_fact\", \"best_fact\")\n",
    "graph.add_edge(\"best_fact\", END)\n",
    "\n",
    "# Compile the graph\n",
    "app = graph.compile()\n",
    "Image(app.get_graph().draw_mermaid_png())"
   ]
  },
  {
   "cell_type": "code",
   "execution_count": 24,
   "id": "e21dc7c9-0add-4125-be76-af701adb874a",
   "metadata": {},
   "outputs": [
    {
     "name": "stdout",
     "output_type": "stream",
     "text": [
      "{'generate_topics': {'subjects': ['Exoplanets and Their Potential for Supporting Life', 'The Lifecycle of Stars: From Birth to Supernova', 'The Role of Dark Matter in Galaxy Formation']}}\n",
      "{'generate_fact': {'facts': ['### The Enigmatic World of Exoplanets: A Glimpse into Potential Life Beyond Earth\\n\\nIn the vast expanse of the universe, exoplanets—planets that orbit stars outside our solar system—offer a tantalizing glimpse into the potential for life beyond Earth. Among the thousands of exoplanets discovered, some reside in the \"habitable zone,\" a region around a star where conditions might be just right for liquid water to exist on a planet\\'s surface. This is often referred to as the \"Goldilocks Zone,\" where conditions are neither too hot nor too cold, but just right for life as we know it.\\n\\n#### A Cosmic Symphony of Diversity\\nExoplanets come in a dazzling array of sizes, compositions, and orbits. From gas giants larger than Jupiter to rocky Earth-like planets, the diversity is astounding. Some exoplanets orbit their stars in mere days, while others take years. This diversity suggests that the universe is a cosmic symphony of planetary systems, each with its own unique characteristics.\\n\\n#### The Search for Life: A Cosmic Detective Story\\nThe quest to find life on exoplanets is akin to a cosmic detective story. Scientists use a variety of methods to infer the presence of life-supporting conditions. One key technique is the study of a planet\\'s atmosphere through spectroscopy. By analyzing the light that passes through or reflects off an exoplanet\\'s atmosphere, scientists can detect the presence of gases like oxygen, methane, and carbon dioxide—potential indicators of biological activity.\\n\\n#### The Trappist-1 System: A Promising Candidate\\nOne of the most intriguing discoveries in recent years is the Trappist-1 system, located about 39 light-years away in the constellation Aquarius. This system boasts seven Earth-sized planets, three of which lie within the habitable zone. The potential for liquid water on these planets makes them prime candidates in the search for extraterrestrial life.\\n\\n#### The Future of Exoplanet Exploration\\nAs technology advances, the exploration of exoplanets will become even more sophisticated. The James Webb Space Telescope, launched in 2021, is poised to revolutionize our understanding of these distant worlds. With its powerful instruments, it will be able to probe the atmospheres of exoplanets with unprecedented precision, bringing us closer to answering the age-old question: Are we alone in the universe?\\n\\nIn conclusion, the study of exoplanets is not just about finding new worlds; it\\'s about understanding the potential for life beyond our own. Each discovery brings us one step closer to unraveling the mysteries of the cosmos and our place within it. The universe is vast, and the possibilities are endless.']}}\n",
      "{'generate_fact': {'facts': [\"### The Invisible Architect: Dark Matter's Role in Shaping Galaxies\\n\\nImagine a cosmic dance where the stars, planets, and galaxies are the performers, but the choreographer remains unseen. This unseen force is dark matter, a mysterious substance that makes up about 27% of the universe. While it doesn't emit, absorb, or reflect light, its gravitational influence is crucial in the grand design of the cosmos.\\n\\n#### The Cosmic Scaffold\\nDark matter acts as a cosmic scaffold, providing the gravitational framework necessary for galaxies to form and evolve. Here's how it works:\\n\\n1. **The Primordial Soup:** Shortly after the Big Bang, the universe was a hot, dense soup of particles. As it expanded and cooled, tiny fluctuations in density began to form.\\n\\n2. **Dark Matter's Gravitational Pull:** These fluctuations were amplified by dark matter's gravity, which began to pull ordinary matter (like hydrogen and helium gas) into its gravitational wells.\\n\\n3. **Galaxy Formation:** Over billions of years, these regions of concentrated matter grew denser, eventually forming the first stars and galaxies. Without dark matter's gravitational pull, the gas would have been too diffuse to collapse into these structures.\\n\\n4. **Galactic Clusters:** Dark matter doesn't just help form individual galaxies; it also plays a role in clustering them together. Galaxies are often found in groups or clusters, bound together by the gravitational pull of dark matter.\\n\\n#### The Evidence\\nWhile dark matter remains invisible, its presence is inferred through its gravitational effects:\\n\\n- **Galaxy Rotation Curves:** Observations show that galaxies rotate at speeds that cannot be explained by the visible matter alone. The additional gravitational pull from dark matter accounts for this discrepancy.\\n\\n- **Gravitational Lensing:** Dark matter bends light from distant objects, a phenomenon known as gravitational lensing. This effect allows astronomers to map the distribution of dark matter in the universe.\\n\\n#### The Mystery Continues\\nDespite its pivotal role, dark matter remains one of the greatest mysteries in astrophysics. Scientists are still working to understand its true nature, with theories ranging from exotic particles to modifications of gravity itself.\\n\\nIn the grand tapestry of the universe, dark matter is the invisible thread that weaves galaxies together, shaping the cosmos in ways we are only beginning to understand. As we continue to explore the universe, dark matter remains a tantalizing enigma, inviting us to uncover the secrets of the unseen universe.\"]}}\n",
      "{'generate_fact': {'facts': ['### The Stellar Journey: From Nebula to Supernova\\n\\nStars are the celestial powerhouses of the universe, and their life cycle is a fascinating journey that spans millions to billions of years. Let\\'s embark on this cosmic adventure to understand how stars are born, live, and eventually die in a spectacular explosion known as a supernova.\\n\\n#### **Birth: The Nebula Nursery**\\n- **Nebulae** are vast clouds of gas and dust, often referred to as the \"stellar nurseries\" of the universe. Within these nebulae, regions of higher density begin to collapse under their own gravity.\\n- As the gas and dust clump together, they form a **protostar**. This is the earliest stage of a star\\'s life, where nuclear fusion has yet to begin.\\n\\n#### **Adolescence: The Main Sequence**\\n- Once the core temperature of a protostar reaches about 10 million degrees Celsius, nuclear fusion ignites, converting hydrogen into helium. This marks the birth of a true star.\\n- The star enters the **main sequence** phase, where it will spend the majority of its life. Our Sun is currently in this stable phase, which can last billions of years.\\n\\n#### **Adulthood: The Red Giant Phase**\\n- As the star exhausts its hydrogen fuel, the core contracts and heats up, causing the outer layers to expand. The star becomes a **red giant**.\\n- In this phase, helium fusion begins, creating heavier elements like carbon and oxygen.\\n\\n#### **The Grand Finale: Supernova**\\n- For massive stars, the end comes in a dramatic fashion. Once the core\\'s nuclear fuel is depleted, it collapses under gravity, leading to a **supernova explosion**.\\n- This explosion is so powerful that it can outshine entire galaxies for a short period. It disperses elements like iron, gold, and uranium into space, seeding the cosmos with the building blocks for new stars, planets, and even life.\\n\\n#### **Legacy: Neutron Stars and Black Holes**\\n- The remnants of a supernova can form a **neutron star** or, if the original star was massive enough, a **black hole**.\\n- Neutron stars are incredibly dense, with a teaspoon of their material weighing as much as a mountain on Earth.\\n- Black holes, on the other hand, are regions of space where gravity is so strong that nothing, not even light, can escape.\\n\\n### **Conclusion**\\nThe life cycle of a star is a testament to the dynamic and ever-changing nature of the universe. From the quiet birth in a nebula to the explosive death in a supernova, stars play a crucial role in the cosmic dance, creating and recycling the elements that make up everything we see around us, including ourselves. 🌌✨']}}\n",
      "{'best_fact': {'best_selected_fact': '### The Enigmatic World of Exoplanets: A Glimpse into Potential Life Beyond Earth\\n\\nIn the vast expanse of the universe, exoplanets—planets that orbit stars outside our solar system—offer a tantalizing glimpse into the potential for life beyond Earth. Among the thousands of exoplanets discovered, some reside in the \"habitable zone,\" a region around a star where conditions might be just right for liquid water to exist on a planet\\'s surface. This is often referred to as the \"Goldilocks Zone,\" where conditions are neither too hot nor too cold, but just right for life as we know it.\\n\\n#### A Cosmic Symphony of Diversity\\nExoplanets come in a dazzling array of sizes, compositions, and orbits. From gas giants larger than Jupiter to rocky Earth-like planets, the diversity is astounding. Some exoplanets orbit their stars in mere days, while others take years. This diversity suggests that the universe is a cosmic symphony of planetary systems, each with its own unique characteristics.\\n\\n#### The Search for Life: A Cosmic Detective Story\\nThe quest to find life on exoplanets is akin to a cosmic detective story. Scientists use a variety of methods to infer the presence of life-supporting conditions. One key technique is the study of a planet\\'s atmosphere through spectroscopy. By analyzing the light that passes through or reflects off an exoplanet\\'s atmosphere, scientists can detect the presence of gases like oxygen, methane, and carbon dioxide—potential indicators of biological activity.\\n\\n#### The Trappist-1 System: A Promising Candidate\\nOne of the most intriguing discoveries in recent years is the Trappist-1 system, located about 39 light-years away in the constellation Aquarius. This system boasts seven Earth-sized planets, three of which lie within the habitable zone. The potential for liquid water on these planets makes them prime candidates in the search for extraterrestrial life.\\n\\n#### The Future of Exoplanet Exploration\\nAs technology advances, the exploration of exoplanets will become even more sophisticated. The James Webb Space Telescope, launched in 2021, is poised to revolutionize our understanding of these distant worlds. With its powerful instruments, it will be able to probe the atmospheres of exoplanets with unprecedented precision, bringing us closer to answering the age-old question: Are we alone in the universe?\\n\\nIn conclusion, the study of exoplanets is not just about finding new worlds; it\\'s about understanding the potential for life beyond our own. Each discovery brings us one step closer to unraveling the mysteries of the cosmos and our place within it. The universe is vast, and the possibilities are endless.'}}\n"
     ]
    }
   ],
   "source": [
    "# Call the graph: here we call it to generate a list of jokes\n",
    "for s in app.stream({\"topic\": \"celestial bodies\"}):\n",
    "    print(s)"
   ]
  }
 ],
 "metadata": {
  "kernelspec": {
   "display_name": ".venv",
   "language": "python",
   "name": "python3"
  },
  "language_info": {
   "codemirror_mode": {
    "name": "ipython",
    "version": 3
   },
   "file_extension": ".py",
   "mimetype": "text/x-python",
   "name": "python",
   "nbconvert_exporter": "python",
   "pygments_lexer": "ipython3",
   "version": "3.13.5"
  }
 },
 "nbformat": 4,
 "nbformat_minor": 5
}
